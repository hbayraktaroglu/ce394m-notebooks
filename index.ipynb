{
 "cells": [
  {
   "cell_type": "markdown",
   "metadata": {},
   "source": [
    "# CE 394M: Finite Element Methods"
   ]
  },
  {
   "cell_type": "markdown",
   "metadata": {},
   "source": [
    "These notebooks are in support of the course CE 394M Advanced Analysis in Geotechnical Engineering at the Department of Civil, Architecture and Environmental Engineering, University of Texas at Austin.\n",
    "\n",
    "Please report any errors to  Krishna Kumar <krishnak@utexas.edu>.\n",
    "\n",
    "- [Shape functions](01-shape_functions.ipynb)\n",
    "- [Basis finite element solver for an elastic bar](02-elastic_bar_linear_fem.ipynb)"
   ]
  }
 ],
 "metadata": {
  "kernelspec": {
   "display_name": "Python 3",
   "language": "python",
   "name": "python3"
  },
  "language_info": {
   "codemirror_mode": {
    "name": "ipython",
    "version": 3
   },
   "file_extension": ".py",
   "mimetype": "text/x-python",
   "name": "python",
   "nbconvert_exporter": "python",
   "pygments_lexer": "ipython3",
   "version": "3.7.2"
  }
 },
 "nbformat": 4,
 "nbformat_minor": 1
}
